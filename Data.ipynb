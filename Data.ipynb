{
 "cells": [
  {
   "cell_type": "markdown",
   "metadata": {},
   "source": [
    "\n",
    "# Dataset\n",
    "For this project, the primary source of data will be vanue data retrieved via the FourSquare API. This data will be captured via the API endpoints trending, categories, timeseries, stats, and checkins through the downtown are of Houston Texas.\n",
    "https://developer.foursquare.com/docs/api/endpoints\n",
    "\n",
    "The secondary data source to be used will be cencus data retrieved via the US Cencus Bureau: https://www.census.gov/quickfacts/houstoncitytexas"
   ]
  },
  {
   "cell_type": "code",
   "execution_count": null,
   "metadata": {},
   "outputs": [],
   "source": []
  }
 ],
 "metadata": {
  "kernelspec": {
   "display_name": "Python 3",
   "language": "python",
   "name": "python3"
  },
  "language_info": {
   "codemirror_mode": {
    "name": "ipython",
    "version": 3
   },
   "file_extension": ".py",
   "mimetype": "text/x-python",
   "name": "python",
   "nbconvert_exporter": "python",
   "pygments_lexer": "ipython3",
   "version": "3.7.1"
  }
 },
 "nbformat": 4,
 "nbformat_minor": 2
}
