{
 "cells": [
  {
   "cell_type": "markdown",
   "metadata": {},
   "source": [
    "\n",
    "# Dataset\n",
    "For this project, the primary source of data will be vanue data retrieved via the FourSquare API. This data will be captured via the API endpoints trending, categories, timeseries, stats, and checkins through the downtown are of Houston Texas.\n",
    "https://developer.foursquare.com/docs/api/endpoints\n",
    "\n",
    "The secondary data source to be used will be \n",
    "\n",
    "\n",
    "Along this project We will use a dataset that contanis the boroughs and neighborhoods of New York city. The dataset can be found in the next link : https://geo.nyu.edu/catalog/nyu_2451_34572\n",
    "\n",
    "Also we will use Foursquare information about restaurants that offer sushi. To identificate this we will use the next ID : 4bf58dd8d48988d1d2941735 (https://developer.foursquare.com/docs/resources/categories)\n",
    "\n",
    "Foursquare venue data including stats, time-series ,  and checkins will be the primary sources used in the exercise. Time-series and checkins will be used to develop some insights into the historic development and activity within the city."
   ]
  }
 ],
 "metadata": {
  "kernelspec": {
   "display_name": "Python 3",
   "language": "python",
   "name": "python3"
  },
  "language_info": {
   "codemirror_mode": {
    "name": "ipython",
    "version": 3
   },
   "file_extension": ".py",
   "mimetype": "text/x-python",
   "name": "python",
   "nbconvert_exporter": "python",
   "pygments_lexer": "ipython3",
   "version": "3.7.1"
  }
 },
 "nbformat": 4,
 "nbformat_minor": 2
}
