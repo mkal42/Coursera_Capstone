{
 "cells": [
  {
   "cell_type": "markdown",
   "metadata": {
    "collapsed": true
   },
   "source": [
    "### import requirements"
   ]
  },
  {
   "cell_type": "code",
   "execution_count": 74,
   "metadata": {},
   "outputs": [],
   "source": [
    "import requests, pandas as pd\n",
    "from bs4 import BeautifulSoup"
   ]
  },
  {
   "cell_type": "markdown",
   "metadata": {},
   "source": [
    "### scrape contents of article \"List of postal codes of Canada\""
   ]
  },
  {
   "cell_type": "code",
   "execution_count": 75,
   "metadata": {},
   "outputs": [],
   "source": [
    "page = requests.get('https://en.wikipedia.org/wiki/List_of_postal_codes_of_Canada:_M').text\n",
    "soup = BeautifulSoup(page, 'html.parser')"
   ]
  },
  {
   "cell_type": "markdown",
   "metadata": {},
   "source": [
    "### parse table data for postal code data"
   ]
  },
  {
   "cell_type": "code",
   "execution_count": 76,
   "metadata": {},
   "outputs": [],
   "source": [
    "table = soup.find('table', attrs={'class': 'wikitable sortable'})\n",
    "postal_code_data = table.find_all('tr')"
   ]
  },
  {
   "cell_type": "markdown",
   "metadata": {},
   "source": [
    "### place postal code, borough, and neighborhood into dataframe"
   ]
  },
  {
   "cell_type": "code",
   "execution_count": 77,
   "metadata": {},
   "outputs": [
    {
     "name": "stdout",
     "output_type": "stream",
     "text": [
      "  PostalCode      Borough                                    Neighbourhood\n",
      "0        M1B  Scarborough                                   Malvern, Rouge\n",
      "1        M1C  Scarborough           Rouge Hill, Highland Creek, Port Union\n",
      "2        M1E  Scarborough                West Hill, Guildwood, Morningside\n",
      "3        M1G  Scarborough                                           Woburn\n",
      "4        M1H  Scarborough                                        Cedarbrae\n",
      "5        M1J  Scarborough                              Scarborough Village\n",
      "6        M1K  Scarborough      Kennedy Park, East Birchmount Park, Ionview\n",
      "7        M1L  Scarborough                  Oakridge, Clairlea, Golden Mile\n",
      "8        M1M  Scarborough  Cliffside, Scarborough Village West, Cliffcrest\n",
      "9        M1N  Scarborough                      Cliffside West, Birch Cliff\n",
      "(103, 3)\n"
     ]
    }
   ],
   "source": [
    "postal_codes = []\n",
    "\n",
    "for row in results:\n",
    "    contents = row.findAll('td')\n",
    "    if len(contents) > 0: \n",
    "        postal_codes.append([char.text.strip('\\n') for char in contents])\n",
    "    \n",
    "\n",
    "df = pd.DataFrame(postal_codes, columns=['PostalCode', 'Borough', 'Neighbourhood']).reset_index(drop=True)\n",
    "df = df.loc[df.Borough.ne('Not assigned')].reset_index(drop=True)\n",
    "df_final = df.groupby('PostalCode', as_index=False).agg(lambda x: ', '.join(set(x.dropna()))).reset_index(drop=True)\n",
    "\n",
    "print(df_final.head(10))\n",
    "print(df_final.shape)"
   ]
  },
  {
   "cell_type": "code",
   "execution_count": null,
   "metadata": {},
   "outputs": [],
   "source": []
  }
 ],
 "metadata": {
  "kernelspec": {
   "display_name": "Python 3.5",
   "language": "python",
   "name": "python3"
  },
  "language_info": {
   "codemirror_mode": {
    "name": "ipython",
    "version": 3
   },
   "file_extension": ".py",
   "mimetype": "text/x-python",
   "name": "python",
   "nbconvert_exporter": "python",
   "pygments_lexer": "ipython3",
   "version": "3.5.5"
  }
 },
 "nbformat": 4,
 "nbformat_minor": 1
}
