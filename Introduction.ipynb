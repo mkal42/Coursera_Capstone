{
 "cells": [
  {
   "cell_type": "markdown",
   "metadata": {},
   "source": [
    "# I. Introduction\n",
    "The City of Houston Texas is one of the fastest growing cities in the united states, and is expected to become the third largest city in the US by population. A unique characteristic of Houston is that the city does not have zoning. Development is governed by codes that address how property can be subdivided, however, the City codes do not address land use. Due to these characteristics, there is some interest in finding trends and insights in the market driven (rather than regulation driven) land use in the city.\n",
    "\n",
    "# II. Business Problem\n",
    "In order to understand whether this flexability in the way land can be used may be a contributing factor towards the Houstons level of growth and development, I would like to explore the historic trends in commercial and residential land use over the past decade. Additionally, I would like to gain further insight into the trending activities of visitors, workers, and residence of Houston throughout the many venues the city has to offer."
   ]
  },
  {
   "cell_type": "code",
   "execution_count": null,
   "metadata": {},
   "outputs": [],
   "source": []
  }
 ],
 "metadata": {
  "kernelspec": {
   "display_name": "Python 3",
   "language": "python",
   "name": "python3"
  },
  "language_info": {
   "codemirror_mode": {
    "name": "ipython",
    "version": 3
   },
   "file_extension": ".py",
   "mimetype": "text/x-python",
   "name": "python",
   "nbconvert_exporter": "python",
   "pygments_lexer": "ipython3",
   "version": "3.7.1"
  }
 },
 "nbformat": 4,
 "nbformat_minor": 2
}
